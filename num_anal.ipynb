{
  "nbformat": 4,
  "nbformat_minor": 0,
  "metadata": {
    "colab": {
      "provenance": [],
      "authorship_tag": "ABX9TyOLUy+BYehg71Kqry4TRq5N",
      "include_colab_link": true
    },
    "kernelspec": {
      "name": "python3",
      "display_name": "Python 3"
    },
    "language_info": {
      "name": "python"
    }
  },
  "cells": [
    {
      "cell_type": "markdown",
      "metadata": {
        "id": "view-in-github",
        "colab_type": "text"
      },
      "source": [
        "<a href=\"https://colab.research.google.com/github/joe-granick/CS323/blob/main/num_anal.ipynb\" target=\"_parent\"><img src=\"https://colab.research.google.com/assets/colab-badge.svg\" alt=\"Open In Colab\"/></a>"
      ]
    },
    {
      "cell_type": "markdown",
      "source": [
        "# Gaussian Elimination"
      ],
      "metadata": {
        "id": "cBChAnBYkxit"
      }
    },
    {
      "cell_type": "markdown",
      "source": [
        "## Triangular Matrix"
      ],
      "metadata": {
        "id": "h5dyqYMck4qO"
      }
    },
    {
      "cell_type": "markdown",
      "source": [
        "**Lower Triangular**\n",
        "\n",
        "matrix $L$ is **lower triangular** if $l_{ij}=0$ for $i<j$\n",
        "\n",
        "$$\n",
        "\\begin{bmatrix}\n",
        "1&0&0&0 \\\\\n",
        "1&1&0&0 \\\\\n",
        "1&1&1&0 \\\\\n",
        "1&1&1&1 \\\\\n",
        "\\end{bmatrix}\n",
        "$$\n",
        "\n",
        "**Upper Triangular**\n",
        "\n",
        "matrix $U$ is **upper triangular** if $l_{ij}=0$ for $i>j$\n",
        "\n",
        "$$\n",
        "\\begin{bmatrix}\n",
        "1&1&1&1 \\\\\n",
        "0&1&1&1 \\\\\n",
        "0&0&1&1 \\\\\n",
        "0&0&0&1 \\\\\n",
        "\\end{bmatrix}\n",
        "$$"
      ],
      "metadata": {
        "id": "VHrAxpI3lBzN"
      }
    },
    {
      "cell_type": "code",
      "execution_count": null,
      "metadata": {
        "id": "f0JKcRwqOv1J"
      },
      "outputs": [],
      "source": []
    }
  ]
}